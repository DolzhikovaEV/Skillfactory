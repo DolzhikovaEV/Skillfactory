{
 "cells": [
  {
   "cell_type": "code",
   "execution_count": 7,
   "metadata": {},
   "outputs": [
    {
     "name": "stdout",
     "output_type": "stream",
     "text": [
      "Загадано число от 1 до 100\n",
      "Вы угадали число 82 за 82 попыток.\n"
     ]
    }
   ],
   "source": [
    "import numpy as np\n",
    "count = 0\n",
    "number = np.random.randint(1,101)\n",
    "print(\"Загадано число от 1 до 100\")\n",
    "\n",
    "for count in range(1,101):\n",
    "    if number == count: break\n",
    "print(f\"Вы угадали число {number} за {count} попыток.\")"
   ]
  },
  {
   "cell_type": "code",
   "execution_count": 32,
   "metadata": {},
   "outputs": [
    {
     "name": "stdout",
     "output_type": "stream",
     "text": [
      "Ваш алгоритм угадывает число в среднем за 8 попыток\n"
     ]
    },
    {
     "data": {
      "text/plain": [
       "8"
      ]
     },
     "execution_count": 32,
     "metadata": {},
     "output_type": "execute_result"
    }
   ],
   "source": [
    "import numpy as np\n",
    "count = 0\n",
    "number = np.random.randint(1,101)\n",
    "\n",
    "def game_core_v1(number):   #простой перебор с 1 до 100\n",
    "    count = 0\n",
    "    while True:\n",
    "        count+=1\n",
    "        predict = np.random.randint(1,101)\n",
    "        if number == predict:\n",
    "            return count\n",
    "def game_core_v2(number):    # перебор со случайного числа\n",
    "    count = 1\n",
    "    predict = np.random.randint(1,101)\n",
    "    while number != predict:\n",
    "        count+=1\n",
    "        if number>predict:\n",
    "            predict+=1\n",
    "        elif number < predict:\n",
    "            predict-=1\n",
    "    return(count)\n",
    "\n",
    "def game_core_v3(number): # рабочий вариант\n",
    "    count = 1\n",
    "    predict = 50\n",
    "    while number != predict:\n",
    "        count+=1\n",
    "        if number < predict:\n",
    "            predict = predict - 100//(3*count)\n",
    "        elif number > predict:\n",
    "            predict = predict +100//(3*count)\n",
    "    return(count)\n",
    "\n",
    "def score_game(game_core):      # подсчет среднего числа попыток\n",
    "    count_ls = []\n",
    "    np.random.seed(1)\n",
    "    random_array = np.random.randint(1,101,size=(1000))\n",
    "    for number in random_array:\n",
    "        count_ls.append(game_core(number))\n",
    "    score = int(np.mean(count_ls))\n",
    "    print(f\"Ваш алгоритм угадывает число в среднем за {score} попыток\")\n",
    "    return(score)\n",
    "\n",
    "score_game(game_core_v3)"
   ]
  },
  {
   "cell_type": "code",
   "execution_count": null,
   "metadata": {},
   "outputs": [],
   "source": []
  },
  {
   "cell_type": "code",
   "execution_count": null,
   "metadata": {},
   "outputs": [],
   "source": []
  }
 ],
 "metadata": {
  "kernelspec": {
   "display_name": "Python 3",
   "language": "python",
   "name": "python3"
  },
  "language_info": {
   "codemirror_mode": {
    "name": "ipython",
    "version": 3
   },
   "file_extension": ".py",
   "mimetype": "text/x-python",
   "name": "python",
   "nbconvert_exporter": "python",
   "pygments_lexer": "ipython3",
   "version": "3.8.5"
  }
 },
 "nbformat": 4,
 "nbformat_minor": 4
}
